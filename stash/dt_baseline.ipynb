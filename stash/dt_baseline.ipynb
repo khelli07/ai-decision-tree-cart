{
 "cells": [
  {
   "cell_type": "code",
   "execution_count": 328,
   "metadata": {},
   "outputs": [],
   "source": [
    "import pandas as pd \n",
    "import numpy as np"
   ]
  },
  {
   "cell_type": "code",
   "execution_count": 329,
   "metadata": {},
   "outputs": [],
   "source": [
    "training_data = np.array([\n",
    "    ['Green', 3, 'Apple'],\n",
    "    ['Yellow', 3, 'Apple'],\n",
    "    ['Red', 1, 'Grape'],\n",
    "    ['Red', 1, 'Grape'],\n",
    "    ['Yellow', 3, 'Lemon'],\n",
    "], dtype='O')"
   ]
  },
  {
   "cell_type": "code",
   "execution_count": 330,
   "metadata": {},
   "outputs": [],
   "source": [
    "header = np.array(['color', 'diameter', 'label'])\n",
    "df = pd.DataFrame(training_data, columns = header)\n",
    "df.diameter = df.diameter.astype('int32')"
   ]
  },
  {
   "cell_type": "code",
   "execution_count": 335,
   "metadata": {},
   "outputs": [],
   "source": [
    "def unique_vals(array):\n",
    "    return set(array)"
   ]
  },
  {
   "cell_type": "code",
   "execution_count": 337,
   "metadata": {},
   "outputs": [],
   "source": [
    "def class_count(y_data):\n",
    "    counter = {}\n",
    "\n",
    "    # Initialize table\n",
    "    for keys in unique_vals(y_data):\n",
    "        counter[keys] = 0\n",
    "\n",
    "    # Fill table\n",
    "    for class_ in y_data:\n",
    "        counter[class_] += 1\n",
    "\n",
    "    return counter"
   ]
  },
  {
   "cell_type": "code",
   "execution_count": 338,
   "metadata": {},
   "outputs": [],
   "source": [
    "def is_numeric(value):\n",
    "    return isinstance(value, int) or isinstance(value, float)\n",
    "\n",
    "def is_col_numeric(types, col):\n",
    "    type_ = str(types[col])\n",
    "    return ('int' in type_) or ('float' in type_)"
   ]
  },
  {
   "cell_type": "code",
   "execution_count": 339,
   "metadata": {},
   "outputs": [],
   "source": [
    "class Question:\n",
    "    def __init__(self, header, column, value):\n",
    "        self.name = header[column]\n",
    "        self.column = column\n",
    "        self.value = value\n",
    "\n",
    "    def match(self, features, types):\n",
    "        val = features[self.column]\n",
    "        if is_col_numeric(types, self.column):\n",
    "            return val >= self.value\n",
    "        else:\n",
    "            return val == self.value\n",
    "        \n",
    "    def __repr__(self):\n",
    "        if is_numeric(self.value):\n",
    "            return f\"Is {self.name} >= {self.value}?\"\n",
    "        else:\n",
    "            return f\"Is {self.name} == {self.value}?\""
   ]
  },
  {
   "cell_type": "code",
   "execution_count": 340,
   "metadata": {},
   "outputs": [],
   "source": [
    "def partition(data, question, types):\n",
    "    true_partition = []\n",
    "    false_partition =[]\n",
    "\n",
    "    for row in data:\n",
    "        # print(row)\n",
    "        if (question.match(row, types)):\n",
    "            true_partition.append(row)\n",
    "        else:\n",
    "            false_partition.append(row)\n",
    "\n",
    "    return np.array(true_partition), np.array(false_partition)"
   ]
  },
  {
   "cell_type": "code",
   "execution_count": 342,
   "metadata": {},
   "outputs": [],
   "source": [
    "def gini_impurity(y_data):\n",
    "    count_db = class_count(y_data)\n",
    "    total_count = float(len(y_data))\n",
    "    gini = 1 \n",
    "    \n",
    "    for _, ctr in count_db.items():\n",
    "        gini -= (ctr / total_count)**2\n",
    "\n",
    "    return gini"
   ]
  },
  {
   "cell_type": "code",
   "execution_count": 343,
   "metadata": {},
   "outputs": [],
   "source": [
    "def info_gain(left, right, current_uncertainty):\n",
    "    ll = float(len(left)); lr = float(len(right))\n",
    "    frac = ll / (ll + lr)\n",
    "    avg_gini = frac * gini_impurity(left) + (1 - frac) * gini_impurity(right)\n",
    "    \n",
    "    return current_uncertainty - avg_gini"
   ]
  },
  {
   "cell_type": "code",
   "execution_count": 344,
   "metadata": {},
   "outputs": [],
   "source": [
    "def get_best_split(header, data, types):\n",
    "    best_gain = 0\n",
    "    best_question = None \n",
    "    current_uncertainty = gini_impurity(data[:, -1])\n",
    "\n",
    "    n_features = len(data[0, :-1])\n",
    "    for col in range(n_features):\n",
    "        values = unique_vals(data[:, col])\n",
    "\n",
    "        for val in values:\n",
    "            q = Question(header, col, val)\n",
    "            true_data, false_data = partition(data, q, types)\n",
    "\n",
    "            if len(true_data) == 0 or len(false_data) == 0:\n",
    "                continue # skip\n",
    "\n",
    "            gain = info_gain(true_data[:, -1], false_data[:, -1],\n",
    "            current_uncertainty)\n",
    "\n",
    "            if gain >= best_gain:\n",
    "                best_gain, best_question = gain, q\n",
    "\n",
    "    return best_gain, best_question"
   ]
  },
  {
   "cell_type": "code",
   "execution_count": 345,
   "metadata": {},
   "outputs": [],
   "source": [
    "class Leaf:\n",
    "    def __init__(self, data):\n",
    "        self.count = class_count(data[:, -1])\n",
    "\n",
    "    def __repr__(self):\n",
    "        txt = \"{\"\n",
    "        for key, val in self.count.items():\n",
    "            txt += f\"{key}: {val}, \"\n",
    "        txt = txt[:-2] + \"}\"\n",
    "        return txt"
   ]
  },
  {
   "cell_type": "code",
   "execution_count": 346,
   "metadata": {},
   "outputs": [],
   "source": [
    "class DecisionNode:\n",
    "    def __init__(self, question, true_branch, false_branch, types):\n",
    "        self.question = question\n",
    "        self.true_branch = true_branch\n",
    "        self.false_branch = false_branch\n",
    "        self.types = types\n",
    "\n",
    "    def classify(self, node, X_data):\n",
    "        features = np.array(X_data)\n",
    "        if isinstance(node, Leaf):\n",
    "            return node.count\n",
    "        \n",
    "        else:\n",
    "            if node.question.match(features, self.types):\n",
    "                return self.classify(node.true_branch, features)\n",
    "            else:\n",
    "                return self.classify(node.false_branch, features)\n",
    "                \n",
    "    def print_node(self, indent):\n",
    "        spacing = ' ' * indent\n",
    "        print(spacing + str(self.question))\n",
    "        print(spacing + \"=== TRUE ===\")\n",
    "        if not(isinstance(self.true_branch, Leaf)):\n",
    "            self.true_branch.print_node(indent + 5)\n",
    "        else:\n",
    "            print(spacing, end=\"\")\n",
    "            print(self.true_branch)\n",
    "\n",
    "        print(' ' * indent + \"=== FALSE ===\")\n",
    "        if not(isinstance(self.false_branch, Leaf)):\n",
    "            self.false_branch.print_node(indent + 5)\n",
    "        else:\n",
    "            print(spacing, end=\"\")\n",
    "            print(self.false_branch)"
   ]
  },
  {
   "cell_type": "code",
   "execution_count": 347,
   "metadata": {},
   "outputs": [],
   "source": [
    "class DecisionTreeClassifier:\n",
    "    def __init__(self, max_depth=5):\n",
    "        self.tree = None\n",
    "        self.types = None\n",
    "        self.max_depth = max_depth\n",
    "\n",
    "    def fit(self, X_data, y_data):\n",
    "        features = np.array(X_data)\n",
    "        target = np.array([y_data]).T\n",
    "        data = np.concatenate((features, target), axis=1)\n",
    "\n",
    "        header = [name for name in X_data.columns]\n",
    "        header.append(y_data.name)\n",
    "        \n",
    "        self.types = [val for _, val in X_data.dtypes.items()][:-1]\n",
    "        self.types.append(y_data.dtype)\n",
    "        \n",
    "        self.tree = self.grow_tree(data, header)\n",
    "                \n",
    "    def grow_tree(self, data, header):\n",
    "        gain, question = get_best_split(header, data, self.types)\n",
    "        \n",
    "        if gain == 0:\n",
    "            return Leaf(data)\n",
    "\n",
    "        true_data, false_data = partition(data, question, self.types)\n",
    "\n",
    "        true_branch = self.grow_tree(true_data, header)\n",
    "        false_branch = self.grow_tree(false_data, header)\n",
    "\n",
    "        return DecisionNode(question, true_branch, false_branch, self.types)\n",
    "\n",
    "    def print_tree(self):\n",
    "        self.tree.print_node(0)"
   ]
  }
 ],
 "metadata": {
  "interpreter": {
   "hash": "63fd5069d213b44bf678585dea6b12cceca9941eaf7f819626cde1f2670de90d"
  },
  "kernelspec": {
   "display_name": "Python 3.9.5 64-bit",
   "language": "python",
   "name": "python3"
  },
  "language_info": {
   "codemirror_mode": {
    "name": "ipython",
    "version": 3
   },
   "file_extension": ".py",
   "mimetype": "text/x-python",
   "name": "python",
   "nbconvert_exporter": "python",
   "pygments_lexer": "ipython3",
   "version": "3.9.5"
  },
  "orig_nbformat": 4
 },
 "nbformat": 4,
 "nbformat_minor": 2
}
