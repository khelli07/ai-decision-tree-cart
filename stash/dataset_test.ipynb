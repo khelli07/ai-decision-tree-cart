{
 "cells": [
  {
   "cell_type": "code",
   "execution_count": 1,
   "metadata": {},
   "outputs": [],
   "source": [
    "from sklearn.model_selection import train_test_split\n",
    "from sklearn.metrics import classification_report\n",
    "import pandas as pd\n",
    "import numpy as np"
   ]
  },
  {
   "cell_type": "code",
   "execution_count": 2,
   "metadata": {},
   "outputs": [],
   "source": [
    "from dtc import DecisionTreeClassifier"
   ]
  },
  {
   "cell_type": "code",
   "execution_count": 3,
   "metadata": {},
   "outputs": [],
   "source": [
    "df = pd.read_csv('datasets/heart.csv')"
   ]
  },
  {
   "cell_type": "code",
   "execution_count": 4,
   "metadata": {},
   "outputs": [],
   "source": [
    "# Change column types\n",
    "df.sex = df.sex.astype('object')\n",
    "df.cp = df.cp.astype('object')\n",
    "df.fbs = df.fbs.astype('object')\n",
    "df.restecg = df.restecg.astype('object')\n",
    "df.exang = df.exang.astype('object')\n",
    "df.ca = df.ca.astype('object')\n",
    "df.thal = df.thal.astype('object')"
   ]
  },
  {
   "cell_type": "code",
   "execution_count": 5,
   "metadata": {},
   "outputs": [],
   "source": [
    "X_data = df[df.columns[:-1]]\n",
    "y_data = df[df.columns[-1]]\n",
    "\n",
    "X_train, X_test, y_train, y_test = train_test_split(X_data, \n",
    "                                                    y_data, test_size=0.2, random_state=42)"
   ]
  },
  {
   "cell_type": "code",
   "execution_count": 6,
   "metadata": {},
   "outputs": [
    {
     "name": "stdout",
     "output_type": "stream",
     "text": [
      "Is cp >= 0?\n",
      "|=== TRUE ===|\n",
      "    Is ca >= 0?\n",
      "    |=== TRUE ===|\n",
      "        Is exang >= 1?\n",
      "        |=== TRUE ===|\n",
      "            Is oldpeak >= 0.8?\n",
      "            |=== TRUE ===|\n",
      "            {0: 0.9411764705882353, 1: 0.058823529411764705}\n",
      "            |=== FALSE ===|\n",
      "            {0: 0.4444444444444444, 1: 0.5555555555555556}\n",
      "        |=== FALSE ===|\n",
      "            Is thal >= 3?\n",
      "            |=== TRUE ===|\n",
      "            {0: 0.5714285714285714, 1: 0.42857142857142855}\n",
      "            |=== FALSE ===|\n",
      "            {0: 0.05, 1: 0.95}\n",
      "    |=== FALSE ===|\n",
      "        Is trestbps >= 110?\n",
      "        |=== TRUE ===|\n",
      "            Is chol >= 303?\n",
      "            |=== TRUE ===|\n",
      "            {0: 0.7777777777777778, 1: 0.2222222222222222}\n",
      "            |=== FALSE ===|\n",
      "            {0: 1.0}\n",
      "        |=== FALSE ===|\n",
      "            Is chol >= 234?\n",
      "            |=== TRUE ===|\n",
      "            {0: 1.0}\n",
      "            |=== FALSE ===|\n",
      "            {1: 1.0}\n",
      "|=== FALSE ===|\n",
      "    Is oldpeak >= 2.0?\n",
      "    |=== TRUE ===|\n",
      "        Is slope >= 1?\n",
      "        |=== TRUE ===|\n",
      "        {0: 1.0}\n",
      "        |=== FALSE ===|\n",
      "        {1: 1.0}\n",
      "    |=== FALSE ===|\n",
      "        Is age >= 57?\n",
      "        |=== TRUE ===|\n",
      "            Is age >= 58?\n",
      "            |=== TRUE ===|\n",
      "            {0: 0.2894736842105263, 1: 0.7105263157894737}\n",
      "            |=== FALSE ===|\n",
      "            {0: 1.0}\n",
      "        |=== FALSE ===|\n",
      "            Is trestbps >= 192?\n",
      "            |=== TRUE ===|\n",
      "            {0: 1.0}\n",
      "            |=== FALSE ===|\n",
      "            {0: 0.07692307692307693, 1: 0.9230769230769231}\n"
     ]
    }
   ],
   "source": [
    "# Tree Model\n",
    "dtc = DecisionTreeClassifier(max_depth=4)\n",
    "dtc.fit(X_train, y_train)\n",
    "dtc.print_tree()"
   ]
  },
  {
   "cell_type": "code",
   "execution_count": 7,
   "metadata": {},
   "outputs": [
    {
     "data": {
      "text/plain": [
       "4"
      ]
     },
     "execution_count": 7,
     "metadata": {},
     "output_type": "execute_result"
    }
   ],
   "source": [
    "dtc.depth"
   ]
  },
  {
   "cell_type": "code",
   "execution_count": 8,
   "metadata": {},
   "outputs": [
    {
     "name": "stdout",
     "output_type": "stream",
     "text": [
      "              precision    recall  f1-score   support\n",
      "\n",
      "           0       0.81      0.90      0.85        29\n",
      "           1       0.90      0.81      0.85        32\n",
      "\n",
      "    accuracy                           0.85        61\n",
      "   macro avg       0.85      0.85      0.85        61\n",
      "weighted avg       0.86      0.85      0.85        61\n",
      "\n"
     ]
    }
   ],
   "source": [
    "print(classification_report(np.array(y_test), dtc.predict(X_test)))"
   ]
  }
 ],
 "metadata": {
  "interpreter": {
   "hash": "63fd5069d213b44bf678585dea6b12cceca9941eaf7f819626cde1f2670de90d"
  },
  "kernelspec": {
   "display_name": "Python 3.9.5 64-bit",
   "language": "python",
   "name": "python3"
  },
  "language_info": {
   "codemirror_mode": {
    "name": "ipython",
    "version": 3
   },
   "file_extension": ".py",
   "mimetype": "text/x-python",
   "name": "python",
   "nbconvert_exporter": "python",
   "pygments_lexer": "ipython3",
   "version": "3.9.5"
  },
  "orig_nbformat": 4
 },
 "nbformat": 4,
 "nbformat_minor": 2
}
