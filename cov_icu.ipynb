{
 "cells": [
  {
   "cell_type": "code",
   "execution_count": 1,
   "metadata": {},
   "outputs": [],
   "source": [
    "import pandas as pd\n",
    "import numpy as np\n",
    "import matplotlib.pyplot as plt \n",
    "import seaborn as sns \n",
    "import warnings\n",
    "\n",
    "warnings.filterwarnings(\"ignore\")\n",
    "sns.set()"
   ]
  },
  {
   "cell_type": "code",
   "execution_count": 2,
   "metadata": {},
   "outputs": [
    {
     "data": {
      "text/html": [
       "<div>\n",
       "<style scoped>\n",
       "    .dataframe tbody tr th:only-of-type {\n",
       "        vertical-align: middle;\n",
       "    }\n",
       "\n",
       "    .dataframe tbody tr th {\n",
       "        vertical-align: top;\n",
       "    }\n",
       "\n",
       "    .dataframe thead th {\n",
       "        text-align: right;\n",
       "    }\n",
       "</style>\n",
       "<table border=\"1\" class=\"dataframe\">\n",
       "  <thead>\n",
       "    <tr style=\"text-align: right;\">\n",
       "      <th></th>\n",
       "      <th>id</th>\n",
       "      <th>sex</th>\n",
       "      <th>patient_type</th>\n",
       "      <th>entry_date</th>\n",
       "      <th>date_symptoms</th>\n",
       "      <th>date_died</th>\n",
       "      <th>intubed</th>\n",
       "      <th>pneumonia</th>\n",
       "      <th>age</th>\n",
       "      <th>pregnancy</th>\n",
       "      <th>...</th>\n",
       "      <th>inmsupr</th>\n",
       "      <th>hypertension</th>\n",
       "      <th>other_disease</th>\n",
       "      <th>cardiovascular</th>\n",
       "      <th>obesity</th>\n",
       "      <th>renal_chronic</th>\n",
       "      <th>tobacco</th>\n",
       "      <th>contact_other_covid</th>\n",
       "      <th>covid_res</th>\n",
       "      <th>icu</th>\n",
       "    </tr>\n",
       "  </thead>\n",
       "  <tbody>\n",
       "    <tr>\n",
       "      <th>0</th>\n",
       "      <td>16169f</td>\n",
       "      <td>2</td>\n",
       "      <td>1</td>\n",
       "      <td>04-05-2020</td>\n",
       "      <td>02-05-2020</td>\n",
       "      <td>9999-99-99</td>\n",
       "      <td>97</td>\n",
       "      <td>2</td>\n",
       "      <td>27</td>\n",
       "      <td>97</td>\n",
       "      <td>...</td>\n",
       "      <td>2</td>\n",
       "      <td>2</td>\n",
       "      <td>2</td>\n",
       "      <td>2</td>\n",
       "      <td>2</td>\n",
       "      <td>2</td>\n",
       "      <td>2</td>\n",
       "      <td>2</td>\n",
       "      <td>1</td>\n",
       "      <td>97</td>\n",
       "    </tr>\n",
       "    <tr>\n",
       "      <th>1</th>\n",
       "      <td>1009bf</td>\n",
       "      <td>2</td>\n",
       "      <td>1</td>\n",
       "      <td>19-03-2020</td>\n",
       "      <td>17-03-2020</td>\n",
       "      <td>9999-99-99</td>\n",
       "      <td>97</td>\n",
       "      <td>2</td>\n",
       "      <td>24</td>\n",
       "      <td>97</td>\n",
       "      <td>...</td>\n",
       "      <td>2</td>\n",
       "      <td>2</td>\n",
       "      <td>2</td>\n",
       "      <td>2</td>\n",
       "      <td>2</td>\n",
       "      <td>2</td>\n",
       "      <td>2</td>\n",
       "      <td>99</td>\n",
       "      <td>1</td>\n",
       "      <td>97</td>\n",
       "    </tr>\n",
       "    <tr>\n",
       "      <th>2</th>\n",
       "      <td>167386</td>\n",
       "      <td>1</td>\n",
       "      <td>2</td>\n",
       "      <td>06-04-2020</td>\n",
       "      <td>01-04-2020</td>\n",
       "      <td>9999-99-99</td>\n",
       "      <td>2</td>\n",
       "      <td>2</td>\n",
       "      <td>54</td>\n",
       "      <td>2</td>\n",
       "      <td>...</td>\n",
       "      <td>2</td>\n",
       "      <td>2</td>\n",
       "      <td>2</td>\n",
       "      <td>2</td>\n",
       "      <td>1</td>\n",
       "      <td>2</td>\n",
       "      <td>2</td>\n",
       "      <td>99</td>\n",
       "      <td>1</td>\n",
       "      <td>2</td>\n",
       "    </tr>\n",
       "    <tr>\n",
       "      <th>3</th>\n",
       "      <td>0b5948</td>\n",
       "      <td>2</td>\n",
       "      <td>2</td>\n",
       "      <td>17-04-2020</td>\n",
       "      <td>10-04-2020</td>\n",
       "      <td>9999-99-99</td>\n",
       "      <td>2</td>\n",
       "      <td>1</td>\n",
       "      <td>30</td>\n",
       "      <td>97</td>\n",
       "      <td>...</td>\n",
       "      <td>2</td>\n",
       "      <td>2</td>\n",
       "      <td>2</td>\n",
       "      <td>2</td>\n",
       "      <td>2</td>\n",
       "      <td>2</td>\n",
       "      <td>2</td>\n",
       "      <td>99</td>\n",
       "      <td>1</td>\n",
       "      <td>2</td>\n",
       "    </tr>\n",
       "    <tr>\n",
       "      <th>4</th>\n",
       "      <td>0d01b5</td>\n",
       "      <td>1</td>\n",
       "      <td>2</td>\n",
       "      <td>13-04-2020</td>\n",
       "      <td>13-04-2020</td>\n",
       "      <td>22-04-2020</td>\n",
       "      <td>2</td>\n",
       "      <td>2</td>\n",
       "      <td>60</td>\n",
       "      <td>2</td>\n",
       "      <td>...</td>\n",
       "      <td>2</td>\n",
       "      <td>1</td>\n",
       "      <td>2</td>\n",
       "      <td>1</td>\n",
       "      <td>2</td>\n",
       "      <td>2</td>\n",
       "      <td>2</td>\n",
       "      <td>99</td>\n",
       "      <td>1</td>\n",
       "      <td>2</td>\n",
       "    </tr>\n",
       "  </tbody>\n",
       "</table>\n",
       "<p>5 rows × 23 columns</p>\n",
       "</div>"
      ],
      "text/plain": [
       "       id  sex  patient_type  entry_date date_symptoms   date_died  intubed  \\\n",
       "0  16169f    2             1  04-05-2020    02-05-2020  9999-99-99       97   \n",
       "1  1009bf    2             1  19-03-2020    17-03-2020  9999-99-99       97   \n",
       "2  167386    1             2  06-04-2020    01-04-2020  9999-99-99        2   \n",
       "3  0b5948    2             2  17-04-2020    10-04-2020  9999-99-99        2   \n",
       "4  0d01b5    1             2  13-04-2020    13-04-2020  22-04-2020        2   \n",
       "\n",
       "   pneumonia  age  pregnancy  ...  inmsupr  hypertension  other_disease  \\\n",
       "0          2   27         97  ...        2             2              2   \n",
       "1          2   24         97  ...        2             2              2   \n",
       "2          2   54          2  ...        2             2              2   \n",
       "3          1   30         97  ...        2             2              2   \n",
       "4          2   60          2  ...        2             1              2   \n",
       "\n",
       "   cardiovascular  obesity  renal_chronic  tobacco  contact_other_covid  \\\n",
       "0               2        2              2        2                    2   \n",
       "1               2        2              2        2                   99   \n",
       "2               2        1              2        2                   99   \n",
       "3               2        2              2        2                   99   \n",
       "4               1        2              2        2                   99   \n",
       "\n",
       "   covid_res  icu  \n",
       "0          1   97  \n",
       "1          1   97  \n",
       "2          1    2  \n",
       "3          1    2  \n",
       "4          1    2  \n",
       "\n",
       "[5 rows x 23 columns]"
      ]
     },
     "execution_count": 2,
     "metadata": {},
     "output_type": "execute_result"
    }
   ],
   "source": [
    "df = pd.read_csv('datasets/covid.csv')\n",
    "df.head()"
   ]
  },
  {
   "cell_type": "code",
   "execution_count": 3,
   "metadata": {},
   "outputs": [
    {
     "data": {
      "text/plain": [
       "(566602, 23)"
      ]
     },
     "execution_count": 3,
     "metadata": {},
     "output_type": "execute_result"
    }
   ],
   "source": [
    "df.shape"
   ]
  },
  {
   "cell_type": "code",
   "execution_count": 4,
   "metadata": {},
   "outputs": [
    {
     "data": {
      "text/plain": [
       "0.0    111676\n",
       "1.0     10112\n",
       "Name: icu, dtype: int64"
      ]
     },
     "execution_count": 4,
     "metadata": {},
     "output_type": "execute_result"
    }
   ],
   "source": [
    "cols = [col for col in df.columns if col not in ['id', 'entry_date', 'date_symptoms', 'date_died']]\n",
    "def convert_label(x):\n",
    "    if x == 2:\n",
    "        return 0\n",
    "    elif x >= 97:\n",
    "        return np.nan\n",
    "    else:\n",
    "        return x\n",
    "\n",
    "df[cols] = df[cols].applymap(lambda x: convert_label(x))\n",
    "df['icu'].value_counts()"
   ]
  },
  {
   "cell_type": "code",
   "execution_count": 5,
   "metadata": {},
   "outputs": [
    {
     "data": {
      "text/plain": [
       "0.0    83122\n",
       "1.0    42340\n",
       "Name: icu, dtype: int64"
      ]
     },
     "execution_count": 5,
     "metadata": {},
     "output_type": "execute_result"
    }
   ],
   "source": [
    "df['icu'] = df.apply(lambda x: 1 if x['date_died'].strip() != '9999-99-99' else x['icu'], axis=1)\n",
    "df['icu'].value_counts()"
   ]
  },
  {
   "cell_type": "code",
   "execution_count": 6,
   "metadata": {},
   "outputs": [],
   "source": [
    "df = df[df['patient_type'] == 0] # Remove outpatient\n",
    "df = df[df['covid_res'] == 1] # Only take patients with COVID"
   ]
  },
  {
   "cell_type": "code",
   "execution_count": 7,
   "metadata": {},
   "outputs": [
    {
     "data": {
      "image/png": "[encoded data removed]",
      "text/plain": [
       "<Figure size 432x288 with 1 Axes>"
      ]
     },
     "metadata": {},
     "output_type": "display_data"
    }
   ],
   "source": [
    "class_count = list(df['icu'].value_counts())\n",
    "f, ax = plt.subplots()\n",
    "ax.bar([\"Not Prioritized\", \"Prioritized\"], class_count)\n",
    "plt.show()"
   ]
  },
  {
   "cell_type": "code",
   "execution_count": 8,
   "metadata": {},
   "outputs": [
    {
     "data": {
      "text/plain": [
       "sex                 0\n",
       "entry_date          0\n",
       "date_symptoms       0\n",
       "intubed            85\n",
       "pneumonia           0\n",
       "age                60\n",
       "diabetes          380\n",
       "copd              342\n",
       "asthma            346\n",
       "inmsupr           395\n",
       "hypertension      360\n",
       "cardiovascular    386\n",
       "obesity           405\n",
       "renal_chronic     363\n",
       "tobacco           382\n",
       "icu                44\n",
       "dtype: int64"
      ]
     },
     "execution_count": 8,
     "metadata": {},
     "output_type": "execute_result"
    }
   ],
   "source": [
    "df.drop(columns=['id', 'patient_type', 'date_died', 'pregnancy', \n",
    "                    'other_disease', 'contact_other_covid', 'covid_res'], inplace=True)\n",
    "df.isnull().sum()"
   ]
  },
  {
   "cell_type": "code",
   "execution_count": 9,
   "metadata": {},
   "outputs": [],
   "source": [
    "df1 = df.dropna()"
   ]
  },
  {
   "cell_type": "code",
   "execution_count": 10,
   "metadata": {},
   "outputs": [],
   "source": [
    "cast_col = [col for col in df.columns if col not in ['entry_date', 'date_symptoms', 'age']]\n",
    "df1[cast_col] = df1[cast_col].astype(np.int32)"
   ]
  },
  {
   "cell_type": "code",
   "execution_count": 11,
   "metadata": {},
   "outputs": [
    {
     "data": {
      "text/html": [
       "<div>\n",
       "<style scoped>\n",
       "    .dataframe tbody tr th:only-of-type {\n",
       "        vertical-align: middle;\n",
       "    }\n",
       "\n",
       "    .dataframe tbody tr th {\n",
       "        vertical-align: top;\n",
       "    }\n",
       "\n",
       "    .dataframe thead th {\n",
       "        text-align: right;\n",
       "    }\n",
       "</style>\n",
       "<table border=\"1\" class=\"dataframe\">\n",
       "  <thead>\n",
       "    <tr style=\"text-align: right;\">\n",
       "      <th></th>\n",
       "      <th>sex</th>\n",
       "      <th>entry_date</th>\n",
       "      <th>date_symptoms</th>\n",
       "      <th>intubed</th>\n",
       "      <th>pneumonia</th>\n",
       "      <th>age</th>\n",
       "      <th>diabetes</th>\n",
       "      <th>copd</th>\n",
       "      <th>asthma</th>\n",
       "      <th>inmsupr</th>\n",
       "      <th>hypertension</th>\n",
       "      <th>cardiovascular</th>\n",
       "      <th>obesity</th>\n",
       "      <th>renal_chronic</th>\n",
       "      <th>tobacco</th>\n",
       "      <th>icu</th>\n",
       "    </tr>\n",
       "  </thead>\n",
       "  <tbody>\n",
       "    <tr>\n",
       "      <th>2</th>\n",
       "      <td>1</td>\n",
       "      <td>2020-06-04</td>\n",
       "      <td>2020-01-04</td>\n",
       "      <td>0</td>\n",
       "      <td>0</td>\n",
       "      <td>54.0</td>\n",
       "      <td>0</td>\n",
       "      <td>0</td>\n",
       "      <td>0</td>\n",
       "      <td>0</td>\n",
       "      <td>0</td>\n",
       "      <td>0</td>\n",
       "      <td>1</td>\n",
       "      <td>0</td>\n",
       "      <td>0</td>\n",
       "      <td>0</td>\n",
       "    </tr>\n",
       "    <tr>\n",
       "      <th>3</th>\n",
       "      <td>0</td>\n",
       "      <td>2020-04-17</td>\n",
       "      <td>2020-10-04</td>\n",
       "      <td>0</td>\n",
       "      <td>1</td>\n",
       "      <td>30.0</td>\n",
       "      <td>0</td>\n",
       "      <td>0</td>\n",
       "      <td>0</td>\n",
       "      <td>0</td>\n",
       "      <td>0</td>\n",
       "      <td>0</td>\n",
       "      <td>0</td>\n",
       "      <td>0</td>\n",
       "      <td>0</td>\n",
       "      <td>0</td>\n",
       "    </tr>\n",
       "    <tr>\n",
       "      <th>4</th>\n",
       "      <td>1</td>\n",
       "      <td>2020-04-13</td>\n",
       "      <td>2020-04-13</td>\n",
       "      <td>0</td>\n",
       "      <td>0</td>\n",
       "      <td>60.0</td>\n",
       "      <td>1</td>\n",
       "      <td>0</td>\n",
       "      <td>0</td>\n",
       "      <td>0</td>\n",
       "      <td>1</td>\n",
       "      <td>1</td>\n",
       "      <td>0</td>\n",
       "      <td>0</td>\n",
       "      <td>0</td>\n",
       "      <td>1</td>\n",
       "    </tr>\n",
       "    <tr>\n",
       "      <th>5</th>\n",
       "      <td>0</td>\n",
       "      <td>2020-04-16</td>\n",
       "      <td>2020-04-16</td>\n",
       "      <td>0</td>\n",
       "      <td>1</td>\n",
       "      <td>47.0</td>\n",
       "      <td>1</td>\n",
       "      <td>0</td>\n",
       "      <td>0</td>\n",
       "      <td>0</td>\n",
       "      <td>0</td>\n",
       "      <td>0</td>\n",
       "      <td>0</td>\n",
       "      <td>0</td>\n",
       "      <td>0</td>\n",
       "      <td>1</td>\n",
       "    </tr>\n",
       "    <tr>\n",
       "      <th>6</th>\n",
       "      <td>0</td>\n",
       "      <td>2020-04-22</td>\n",
       "      <td>2020-04-13</td>\n",
       "      <td>0</td>\n",
       "      <td>0</td>\n",
       "      <td>63.0</td>\n",
       "      <td>0</td>\n",
       "      <td>0</td>\n",
       "      <td>0</td>\n",
       "      <td>0</td>\n",
       "      <td>1</td>\n",
       "      <td>0</td>\n",
       "      <td>0</td>\n",
       "      <td>0</td>\n",
       "      <td>0</td>\n",
       "      <td>0</td>\n",
       "    </tr>\n",
       "  </tbody>\n",
       "</table>\n",
       "</div>"
      ],
      "text/plain": [
       "   sex entry_date date_symptoms  intubed  pneumonia   age  diabetes  copd  \\\n",
       "2    1 2020-06-04    2020-01-04        0          0  54.0         0     0   \n",
       "3    0 2020-04-17    2020-10-04        0          1  30.0         0     0   \n",
       "4    1 2020-04-13    2020-04-13        0          0  60.0         1     0   \n",
       "5    0 2020-04-16    2020-04-16        0          1  47.0         1     0   \n",
       "6    0 2020-04-22    2020-04-13        0          0  63.0         0     0   \n",
       "\n",
       "   asthma  inmsupr  hypertension  cardiovascular  obesity  renal_chronic  \\\n",
       "2       0        0             0               0        1              0   \n",
       "3       0        0             0               0        0              0   \n",
       "4       0        0             1               1        0              0   \n",
       "5       0        0             0               0        0              0   \n",
       "6       0        0             1               0        0              0   \n",
       "\n",
       "   tobacco  icu  \n",
       "2        0    0  \n",
       "3        0    0  \n",
       "4        0    1  \n",
       "5        0    1  \n",
       "6        0    0  "
      ]
     },
     "execution_count": 11,
     "metadata": {},
     "output_type": "execute_result"
    }
   ],
   "source": [
    "df1['entry_date'] = pd.to_datetime(df1['entry_date'])\n",
    "df1['date_symptoms'] = pd.to_datetime(df1['date_symptoms'])\n",
    "df1.head()"
   ]
  },
  {
   "cell_type": "code",
   "execution_count": 12,
   "metadata": {},
   "outputs": [
    {
     "data": {
      "text/html": [
       "<div>\n",
       "<style scoped>\n",
       "    .dataframe tbody tr th:only-of-type {\n",
       "        vertical-align: middle;\n",
       "    }\n",
       "\n",
       "    .dataframe tbody tr th {\n",
       "        vertical-align: top;\n",
       "    }\n",
       "\n",
       "    .dataframe thead th {\n",
       "        text-align: right;\n",
       "    }\n",
       "</style>\n",
       "<table border=\"1\" class=\"dataframe\">\n",
       "  <thead>\n",
       "    <tr style=\"text-align: right;\">\n",
       "      <th></th>\n",
       "      <th>sex</th>\n",
       "      <th>days_after_symptoms</th>\n",
       "      <th>intubed</th>\n",
       "      <th>pneumonia</th>\n",
       "      <th>age</th>\n",
       "      <th>diabetes</th>\n",
       "      <th>copd</th>\n",
       "      <th>asthma</th>\n",
       "      <th>inmsupr</th>\n",
       "      <th>hypertension</th>\n",
       "      <th>cardiovascular</th>\n",
       "      <th>obesity</th>\n",
       "      <th>renal_chronic</th>\n",
       "      <th>tobacco</th>\n",
       "      <th>icu</th>\n",
       "    </tr>\n",
       "  </thead>\n",
       "  <tbody>\n",
       "    <tr>\n",
       "      <th>2</th>\n",
       "      <td>1</td>\n",
       "      <td>152</td>\n",
       "      <td>0</td>\n",
       "      <td>0</td>\n",
       "      <td>54.0</td>\n",
       "      <td>0</td>\n",
       "      <td>0</td>\n",
       "      <td>0</td>\n",
       "      <td>0</td>\n",
       "      <td>0</td>\n",
       "      <td>0</td>\n",
       "      <td>1</td>\n",
       "      <td>0</td>\n",
       "      <td>0</td>\n",
       "      <td>0</td>\n",
       "    </tr>\n",
       "    <tr>\n",
       "      <th>3</th>\n",
       "      <td>0</td>\n",
       "      <td>-170</td>\n",
       "      <td>0</td>\n",
       "      <td>1</td>\n",
       "      <td>30.0</td>\n",
       "      <td>0</td>\n",
       "      <td>0</td>\n",
       "      <td>0</td>\n",
       "      <td>0</td>\n",
       "      <td>0</td>\n",
       "      <td>0</td>\n",
       "      <td>0</td>\n",
       "      <td>0</td>\n",
       "      <td>0</td>\n",
       "      <td>0</td>\n",
       "    </tr>\n",
       "    <tr>\n",
       "      <th>4</th>\n",
       "      <td>1</td>\n",
       "      <td>0</td>\n",
       "      <td>0</td>\n",
       "      <td>0</td>\n",
       "      <td>60.0</td>\n",
       "      <td>1</td>\n",
       "      <td>0</td>\n",
       "      <td>0</td>\n",
       "      <td>0</td>\n",
       "      <td>1</td>\n",
       "      <td>1</td>\n",
       "      <td>0</td>\n",
       "      <td>0</td>\n",
       "      <td>0</td>\n",
       "      <td>1</td>\n",
       "    </tr>\n",
       "    <tr>\n",
       "      <th>5</th>\n",
       "      <td>0</td>\n",
       "      <td>0</td>\n",
       "      <td>0</td>\n",
       "      <td>1</td>\n",
       "      <td>47.0</td>\n",
       "      <td>1</td>\n",
       "      <td>0</td>\n",
       "      <td>0</td>\n",
       "      <td>0</td>\n",
       "      <td>0</td>\n",
       "      <td>0</td>\n",
       "      <td>0</td>\n",
       "      <td>0</td>\n",
       "      <td>0</td>\n",
       "      <td>1</td>\n",
       "    </tr>\n",
       "    <tr>\n",
       "      <th>6</th>\n",
       "      <td>0</td>\n",
       "      <td>9</td>\n",
       "      <td>0</td>\n",
       "      <td>0</td>\n",
       "      <td>63.0</td>\n",
       "      <td>0</td>\n",
       "      <td>0</td>\n",
       "      <td>0</td>\n",
       "      <td>0</td>\n",
       "      <td>1</td>\n",
       "      <td>0</td>\n",
       "      <td>0</td>\n",
       "      <td>0</td>\n",
       "      <td>0</td>\n",
       "      <td>0</td>\n",
       "    </tr>\n",
       "  </tbody>\n",
       "</table>\n",
       "</div>"
      ],
      "text/plain": [
       "   sex  days_after_symptoms  intubed  pneumonia   age  diabetes  copd  asthma  \\\n",
       "2    1                  152        0          0  54.0         0     0       0   \n",
       "3    0                 -170        0          1  30.0         0     0       0   \n",
       "4    1                    0        0          0  60.0         1     0       0   \n",
       "5    0                    0        0          1  47.0         1     0       0   \n",
       "6    0                    9        0          0  63.0         0     0       0   \n",
       "\n",
       "   inmsupr  hypertension  cardiovascular  obesity  renal_chronic  tobacco  icu  \n",
       "2        0             0               0        1              0        0    0  \n",
       "3        0             0               0        0              0        0    0  \n",
       "4        0             1               1        0              0        0    1  \n",
       "5        0             0               0        0              0        0    1  \n",
       "6        0             1               0        0              0        0    0  "
      ]
     },
     "execution_count": 12,
     "metadata": {},
     "output_type": "execute_result"
    }
   ],
   "source": [
    "def time_delta(row):\n",
    "    return (row['entry_date'] - row['date_symptoms']).days\n",
    "\n",
    "df1['days_after_symptoms'] = df1.apply(lambda x: time_delta(x), axis=1)\n",
    "\n",
    "cols = [col for col in df1.columns if col not in ['entry_date', 'date_symptoms', 'days_after_symptoms']]\n",
    "cols.insert(1, 'days_after_symptoms')\n",
    "df1 = df1[cols]\n",
    "df1.head()"
   ]
  },
  {
   "cell_type": "code",
   "execution_count": 13,
   "metadata": {},
   "outputs": [
    {
     "data": {
      "text/plain": [
       "sex                    object\n",
       "days_after_symptoms     int64\n",
       "intubed                object\n",
       "pneumonia              object\n",
       "age                     int64\n",
       "diabetes               object\n",
       "copd                   object\n",
       "asthma                 object\n",
       "inmsupr                object\n",
       "hypertension           object\n",
       "cardiovascular         object\n",
       "obesity                object\n",
       "renal_chronic          object\n",
       "tobacco                object\n",
       "icu                    object\n",
       "dtype: object"
      ]
     },
     "execution_count": 13,
     "metadata": {},
     "output_type": "execute_result"
    }
   ],
   "source": [
    "df1[cast_col] = df1[cast_col].astype('O')\n",
    "df1['age'] = df1['age'].astype('int64')\n",
    "df1.dtypes"
   ]
  },
  {
   "cell_type": "code",
   "execution_count": 14,
   "metadata": {},
   "outputs": [
    {
     "data": {
      "text/plain": [
       "0    40767\n",
       "1    26647\n",
       "Name: icu, dtype: int64"
      ]
     },
     "execution_count": 14,
     "metadata": {},
     "output_type": "execute_result"
    }
   ],
   "source": [
    "df1['icu'].value_counts()"
   ]
  },
  {
   "cell_type": "code",
   "execution_count": 15,
   "metadata": {},
   "outputs": [
    {
     "data": {
      "image/png": "[encoded data removed]",
      "text/plain": [
       "<Figure size 432x288 with 1 Axes>"
      ]
     },
     "metadata": {},
     "output_type": "display_data"
    }
   ],
   "source": [
    "class_count = list(df1['icu'].value_counts())\n",
    "f, ax = plt.subplots()\n",
    "ax.bar([\"Not Prioritized\", \"Prioritized\"], class_count)\n",
    "plt.show()"
   ]
  },
  {
   "cell_type": "code",
   "execution_count": 16,
   "metadata": {},
   "outputs": [
    {
     "name": "stdout",
     "output_type": "stream",
     "text": [
      "              precision    recall  f1-score   support\n",
      "\n",
      "           0       0.68      0.73      0.70      8154\n",
      "           1       0.53      0.47      0.50      5329\n",
      "\n",
      "    accuracy                           0.63     13483\n",
      "   macro avg       0.60      0.60      0.60     13483\n",
      "weighted avg       0.62      0.63      0.62     13483\n",
      "\n",
      "F1 score: 0.498\n"
     ]
    }
   ],
   "source": [
    "from sklearn.tree import DecisionTreeClassifier\n",
    "from sklearn.model_selection import train_test_split\n",
    "from sklearn.metrics import classification_report\n",
    "from sklearn.metrics import f1_score\n",
    "\n",
    "X = df1[df1.columns[:-1]]\n",
    "y = df1[df1.columns[-1]].astype('int')\n",
    "\n",
    "X_train, X_test, y_train, y_test = train_test_split(X, y, test_size=0.2, \n",
    "                                                    random_state=42, stratify=y)\n",
    "\n",
    "sklearn_dtc = DecisionTreeClassifier()\n",
    "sklearn_dtc.fit(X_train, y_train)\n",
    "print(classification_report(np.array(y_test), sklearn_dtc.predict(X_test)))\n",
    "print(\"F1 score: {:.3f}\".format(f1_score(np.array(y_test), sklearn_dtc.predict(X_test))))"
   ]
  },
  {
   "cell_type": "code",
   "execution_count": 17,
   "metadata": {},
   "outputs": [
    {
     "data": {
      "text/plain": [
       "0    32613\n",
       "1    21318\n",
       "Name: icu, dtype: int64"
      ]
     },
     "execution_count": 17,
     "metadata": {},
     "output_type": "execute_result"
    }
   ],
   "source": [
    "y_train.value_counts()"
   ]
  },
  {
   "cell_type": "code",
   "execution_count": 18,
   "metadata": {},
   "outputs": [
    {
     "name": "stdout",
     "output_type": "stream",
     "text": [
      "              precision    recall  f1-score   support\n",
      "\n",
      "           0       0.68      0.63      0.65      8154\n",
      "           1       0.49      0.54      0.51      5329\n",
      "\n",
      "    accuracy                           0.60     13483\n",
      "   macro avg       0.58      0.59      0.58     13483\n",
      "weighted avg       0.60      0.60      0.60     13483\n",
      "\n",
      "F1 score: 0.515\n"
     ]
    }
   ],
   "source": [
    "from imblearn.over_sampling import BorderlineSMOTE\n",
    "\n",
    "sm = BorderlineSMOTE()\n",
    "\n",
    "X_train_res, y_train_res = sm.fit_resample(X_train.astype('int32'), y_train)\n",
    "X_train_res = X_train_res.astype(X_train.dtypes)\n",
    "\n",
    "sklearn_dtc = DecisionTreeClassifier(max_depth=4)\n",
    "sklearn_dtc.fit(X_train_res, y_train_res)\n",
    "print(classification_report(np.array(y_test), sklearn_dtc.predict(X_test)))\n",
    "print(\"F1 score: {:.3f}\".format(f1_score(np.array(y_test), sklearn_dtc.predict(X_test))))"
   ]
  },
  {
   "cell_type": "code",
   "execution_count": 19,
   "metadata": {},
   "outputs": [
    {
     "data": {
      "text/plain": [
       "1    32613\n",
       "0    32613\n",
       "Name: icu, dtype: int64"
      ]
     },
     "execution_count": 19,
     "metadata": {},
     "output_type": "execute_result"
    }
   ],
   "source": [
    "y_train_res.value_counts()"
   ]
  },
  {
   "cell_type": "code",
   "execution_count": 20,
   "metadata": {},
   "outputs": [],
   "source": [
    "from dtc import DecisionTreeClassifier"
   ]
  },
  {
   "cell_type": "code",
   "execution_count": 21,
   "metadata": {},
   "outputs": [
    {
     "name": "stdout",
     "output_type": "stream",
     "text": [
      "Is intubed == 1?\n",
      "Information gained: 0.02388355396117592\n",
      "|=== TRUE ===|\n",
      "    Is pneumonia == 1?\n",
      "    Information gained: 0.005714290813539635\n",
      "    |=== TRUE ===|\n",
      "        Is sex == 1?\n",
      "        Information gained: 0.0007470352787083967\n",
      "        |=== TRUE ===|\n",
      "            Is days_after_symptoms >= 7?\n",
      "            Information gained: 0.0009245981554010241\n",
      "            |=== TRUE ===|\n",
      "            {0: 0.1406003159557662, 1: 0.8593996840442338}\n",
      "            |=== FALSE ===|\n",
      "            {0: 0.18489835430784124, 1: 0.8151016456921588}\n",
      "        |=== FALSE ===|\n",
      "            Is days_after_symptoms >= -173?\n",
      "            Information gained: 0.0009623622989630154\n",
      "            |=== TRUE ===|\n",
      "            {0: 0.13048186247969681, 1: 0.8695181375203032}\n",
      "            |=== FALSE ===|\n",
      "            {0: 0.019230769230769232, 1: 0.9807692307692307}\n",
      "    |=== FALSE ===|\n",
      "        Is days_after_symptoms >= -112?\n",
      "        Information gained: 0.005550651325375411\n",
      "        |=== TRUE ===|\n",
      "            Is age >= 47?\n",
      "            Information gained: 0.00841144546549566\n",
      "            |=== TRUE ===|\n",
      "            {0: 0.3492822966507177, 1: 0.6507177033492823}\n",
      "            |=== FALSE ===|\n",
      "            {0: 0.49382716049382713, 1: 0.5061728395061729}\n",
      "        |=== FALSE ===|\n",
      "            Is days_after_symptoms >= -225?\n",
      "            Information gained: 0.05746019601894242\n",
      "            |=== TRUE ===|\n",
      "            {0: 0.1951219512195122, 1: 0.8048780487804879}\n",
      "            |=== FALSE ===|\n",
      "            {0: 1.0}\n",
      "|=== FALSE ===|\n",
      "    Is age >= 52?\n",
      "    Information gained: 0.01925906871732902\n",
      "    |=== TRUE ===|\n",
      "        Is pneumonia == 1?\n",
      "        Information gained: 0.006217085667239719\n",
      "        |=== TRUE ===|\n",
      "            Is age >= 65?\n",
      "            Information gained: 0.004225798775845502\n",
      "            |=== TRUE ===|\n",
      "            {0: 0.36805977930315403, 1: 0.631940220696846}\n",
      "            |=== FALSE ===|\n",
      "            {0: 0.4600826972010178, 1: 0.5399173027989822}\n",
      "        |=== FALSE ===|\n",
      "            Is age >= 66?\n",
      "            Information gained: 0.007522384323777609\n",
      "            |=== TRUE ===|\n",
      "            {0: 0.465904833270888, 1: 0.5340951667291121}\n",
      "            |=== FALSE ===|\n",
      "            {0: 0.5893205339733013, 1: 0.4106794660266987}\n",
      "    |=== FALSE ===|\n",
      "        Is pneumonia == 1?\n",
      "        Information gained: 0.013661774030445273\n",
      "        |=== TRUE ===|\n",
      "            Is age >= 42?\n",
      "            Information gained: 0.005966787817399899\n",
      "            |=== TRUE ===|\n",
      "            {0: 0.5425121374330885, 1: 0.4574878625669115}\n",
      "            |=== FALSE ===|\n",
      "            {0: 0.6526946107784432, 1: 0.3473053892215569}\n",
      "        |=== FALSE ===|\n",
      "            Is age >= 44?\n",
      "            Information gained: 0.008158222630985257\n",
      "            |=== TRUE ===|\n",
      "            {0: 0.6814159292035398, 1: 0.3185840707964602}\n",
      "            |=== FALSE ===|\n",
      "            {0: 0.8118703059168346, 1: 0.1881296940831654}\n"
     ]
    }
   ],
   "source": [
    "dtc = DecisionTreeClassifier(max_depth=4)\n",
    "dtc.fit(X_train_res, y_train_res)\n",
    "dtc.print_tree()"
   ]
  },
  {
   "cell_type": "code",
   "execution_count": 22,
   "metadata": {},
   "outputs": [
    {
     "name": "stdout",
     "output_type": "stream",
     "text": [
      "              precision    recall  f1-score   support\n",
      "\n",
      "           0       0.77      0.59      0.67      8154\n",
      "           1       0.54      0.73      0.62      5329\n",
      "\n",
      "    accuracy                           0.64     13483\n",
      "   macro avg       0.65      0.66      0.64     13483\n",
      "weighted avg       0.68      0.64      0.65     13483\n",
      "\n",
      "F1 score: 0.618\n",
      "Tree depth: 4\n"
     ]
    }
   ],
   "source": [
    "print(classification_report(np.array(y_test), dtc.predict(X_test)))\n",
    "print(\"F1 score: {:.3f}\".format(f1_score(np.array(y_test), dtc.predict(X_test))))\n",
    "print(\"Tree depth:\", dtc.depth)"
   ]
  }
 ],
 "metadata": {
  "interpreter": {
   "hash": "63fd5069d213b44bf678585dea6b12cceca9941eaf7f819626cde1f2670de90d"
  },
  "kernelspec": {
   "display_name": "Python 3.9.5 64-bit",
   "language": "python",
   "name": "python3"
  },
  "language_info": {
   "codemirror_mode": {
    "name": "ipython",
    "version": 3
   },
   "file_extension": ".py",
   "mimetype": "text/x-python",
   "name": "python",
   "nbconvert_exporter": "python",
   "pygments_lexer": "ipython3",
   "version": "3.9.5"
  },
  "orig_nbformat": 4
 },
 "nbformat": 4,
 "nbformat_minor": 2
}
